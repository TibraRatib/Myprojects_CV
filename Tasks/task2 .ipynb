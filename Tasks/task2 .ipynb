{
  "cells": [
    {
      "cell_type": "markdown",
      "metadata": {
        "id": "KGxo4PVNup_O"
      },
      "source": [
        "<b>Task 2 : Image Contours</b>\n",
        "\n",
        "Using screw image code the following cell:"
      ]
    },
    {
      "cell_type": "code",
      "execution_count": 141,
      "metadata": {
        "colab": {
          "base_uri": "https://localhost:8080/",
          "height": 223
        },
        "id": "v0WSNzi-up_Q",
        "outputId": "ae13d326-4063-435a-beed-540ee2ef7e38"
      },
      "outputs": [
        {
          "output_type": "display_data",
          "data": {
            "text/plain": [
              "<PIL.Image.Image image mode=RGB size=425x206>"
            ],
            "image/png": "[encoded data removed]"
          },
          "metadata": {}
        }
      ],
      "source": [
        "#read image\n",
        "from google.colab.patches import cv2_imshow\n",
        "import cv2\n",
        "import matplotlib.pyplot as plt\n",
        "screw = cv2.imread(\"../data/screw.png\")\n",
        "cv2_imshow(screw)"
      ]
    },
    {
      "cell_type": "code",
      "source": [
        "gray = cv2.cvtColor(screw, cv2.COLOR_BGR2GRAY)\n",
        "ret,binary_image = cv2.threshold(gray, 0, 255, cv2.THRESH_OTSU)\n",
        "cv2_imshow(binary_image)\n",
        "cv2.waitKey(0)\n",
        "cv2.destroyAllWindows()"
      ],
      "metadata": {
        "colab": {
          "base_uri": "https://localhost:8080/",
          "height": 223
        },
        "id": "PFRTLKSJ97bh",
        "outputId": "58002e77-6296-4f63-9dce-35cba37655db"
      },
      "execution_count": 142,
      "outputs": [
        {
          "output_type": "display_data",
          "data": {
            "text/plain": [
              "<PIL.Image.Image image mode=L size=425x206>"
            ],
            "image/png": "[encoded data removed]"
          },
          "metadata": {}
        }
      ]
    },
    {
      "cell_type": "code",
      "source": [
        "inv = ~binary_image\n",
        "cv2_imshow(inv)\n",
        "cv2.waitKey(0)\n",
        "cv2.destroyAllWindows()"
      ],
      "metadata": {
        "colab": {
          "base_uri": "https://localhost:8080/",
          "height": 223
        },
        "id": "r1AMZU4E97hR",
        "outputId": "7a356260-eba4-4065-8cb9-a3d20d58dfd3"
      },
      "execution_count": 143,
      "outputs": [
        {
          "output_type": "display_data",
          "data": {
            "text/plain": [
              "<PIL.Image.Image image mode=L size=425x206>"
            ],
            "image/png": "[encoded data removed]"
          },
          "metadata": {}
        }
      ]
    },
    {
      "cell_type": "markdown",
      "metadata": {
        "id": "GKIzBG4Iup_S"
      },
      "source": [
        "Q: draw & plot the contour (inner) --> Child of circle which is inside the right shape"
      ]
    },
    {
      "cell_type": "code",
      "source": [
        "bgr = cv2.merge([inv,inv,inv])\n",
        "contour_list, hierarchy = cv2.findContours(inv, cv2.RETR_TREE, cv2.CHAIN_APPROX_SIMPLE)\n",
        "img1 = cv2.drawContours(bgr, contour_list[3],-1, (0,255,255), 4)\n",
        "cv2_imshow(img1)\n",
        "cv2.waitKey(0)\n",
        "cv2.destroyAllWindows()"
      ],
      "metadata": {
        "colab": {
          "base_uri": "https://localhost:8080/",
          "height": 223
        },
        "id": "EvgPUsfkUM_V",
        "outputId": "4d585d3b-b728-4255-cb41-e332aebdf3b7"
      },
      "execution_count": 144,
      "outputs": [
        {
          "output_type": "display_data",
          "data": {
            "text/plain": [
              "<PIL.Image.Image image mode=RGB size=425x206>"
            ],
            "image/png": "[encoded data removed]"
          },
          "metadata": {}
        }
      ]
    },
    {
      "cell_type": "code",
      "source": [
        "import numpy as np\n",
        "child_contour=contour_list[3]\n",
        "img = np.zeros_like(img1)"
      ],
      "metadata": {
        "id": "7xYg1s6oCB5U"
      },
      "execution_count": 145,
      "outputs": []
    },
    {
      "cell_type": "code",
      "source": [
        "img2 = cv2.drawContours(img, child_contour ,-1, (0,255,255),5)\n",
        "cv2_imshow(img2)\n",
        "cv2.waitKey(0)\n",
        "cv2.destroyAllWindows()"
      ],
      "metadata": {
        "colab": {
          "base_uri": "https://localhost:8080/",
          "height": 223
        },
        "id": "bSo4bqkrAnM_",
        "outputId": "8a7cd5b9-a1fc-4165-ed3e-4aaffd191bf3"
      },
      "execution_count": 146,
      "outputs": [
        {
          "output_type": "display_data",
          "data": {
            "text/plain": [
              "<PIL.Image.Image image mode=RGB size=425x206>"
            ],
            "image/png": "[encoded data removed]"
          },
          "metadata": {}
        }
      ]
    },
    {
      "cell_type": "markdown",
      "metadata": {
        "id": "938rAR_wup_S"
      },
      "source": [
        "Great Job Friends 🤗"
      ]
    }
  ],
  "metadata": {
    "kernelspec": {
      "display_name": ".venv",
      "language": "python",
      "name": "python3"
    },
    "language_info": {
      "codemirror_mode": {
        "name": "ipython",
        "version": 3
      },
      "file_extension": ".py",
      "mimetype": "text/x-python",
      "name": "python",
      "nbconvert_exporter": "python",
      "pygments_lexer": "ipython3",
      "version": "3.10.13"
    },
    "colab": {
      "provenance": []
    }
  },
  "nbformat": 4,
  "nbformat_minor": 0
}