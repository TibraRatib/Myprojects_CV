{
  "cells": [
    {
      "cell_type": "markdown",
      "metadata": {
        "id": "KGxo4PVNup_O"
      },
      "source": [
        "<b>Task 2 : Image Contours</b>\n",
        "\n",
        "Using screw image code the following cell:"
      ]
    },
    {
      "cell_type": "code",
      "execution_count": 3,
      "metadata": {
        "colab": {
          "base_uri": "https://localhost:8080/",
          "height": 223
        },
        "id": "v0WSNzi-up_Q",
        "outputId": "eeab142d-33f0-4a8c-ed60-1e207e3fc930"
      },
      "outputs": [
        {
          "output_type": "display_data",
          "data": {
            "text/plain": [
              "<PIL.Image.Image image mode=RGB size=425x206>"
            ],
            "image/png": "[encoded data removed]"
          },
          "metadata": {}
        }
      ],
      "source": [
        "#read image\n",
        "from google.colab.patches import cv2_imshow\n",
        "import cv2\n",
        "import matplotlib.pyplot as plt\n",
        "screw = cv2.imread(\"../data/screw.png\")\n",
        "cv2_imshow(screw)"
      ]
    },
    {
      "cell_type": "code",
      "source": [
        "gray = cv2.cvtColor(screw, cv2.COLOR_BGR2GRAY)\n",
        "ret,binary_image = cv2.threshold(gray, 0, 255, cv2.THRESH_OTSU)\n",
        "cv2_imshow(binary_image)\n",
        "cv2.waitKey(0)\n",
        "cv2.destroyAllWindows()"
      ],
      "metadata": {
        "colab": {
          "base_uri": "https://localhost:8080/",
          "height": 223
        },
        "id": "PFRTLKSJ97bh",
        "outputId": "6b58ffdf-95bf-4fd8-e29d-4721bcecef92"
      },
      "execution_count": 4,
      "outputs": [
        {
          "output_type": "display_data",
          "data": {
            "text/plain": [
              "<PIL.Image.Image image mode=L size=425x206>"
            ],
            "image/png": "[encoded data removed]"
          },
          "metadata": {}
        }
      ]
    },
    {
      "cell_type": "code",
      "source": [
        "inv = ~binary_image\n",
        "cv2_imshow(inv)\n",
        "cv2.waitKey(0)\n",
        "cv2.destroyAllWindows()"
      ],
      "metadata": {
        "colab": {
          "base_uri": "https://localhost:8080/",
          "height": 223
        },
        "id": "r1AMZU4E97hR",
        "outputId": "84b27b0a-ac22-40bd-bdb8-ef8ba45e1afa"
      },
      "execution_count": 6,
      "outputs": [
        {
          "output_type": "display_data",
          "data": {
            "text/plain": [
              "<PIL.Image.Image image mode=L size=425x206>"
            ],
            "image/png": "[encoded data removed]"
          },
          "metadata": {}
        }
      ]
    },
    {
      "cell_type": "markdown",
      "metadata": {
        "id": "GKIzBG4Iup_S"
      },
      "source": [
        "Q: draw & plot the contour (inner) --> Child of circle which is inside the right shape"
      ]
    },
    {
      "cell_type": "code",
      "source": [
        "bgr = cv2.merge([inv,inv,inv])\n",
        "contour_list, hierarchy = cv2.findContours(inv, cv2.RETR_TREE, cv2.CHAIN_APPROX_SIMPLE)\n",
        "img1 = cv2.drawContours(bgr, contour_list[3],-1, (0,255,255), 4)\n",
        "cv2_imshow(img1)\n",
        "cv2.waitKey(0)\n",
        "cv2.destroyAllWindows()"
      ],
      "metadata": {
        "colab": {
          "base_uri": "https://localhost:8080/",
          "height": 223
        },
        "id": "EvgPUsfkUM_V",
        "outputId": "91d8a48f-5edd-41ad-e9a9-eb3a7972e766"
      },
      "execution_count": 11,
      "outputs": [
        {
          "output_type": "display_data",
          "data": {
            "text/plain": [
              "<PIL.Image.Image image mode=RGB size=425x206>"
            ],
            "image/png": "[encoded data removed]"
          },
          "metadata": {}
        }
      ]
    },
    {
      "cell_type": "code",
      "source": [
        "contour_list, hierarchy = cv2.findContours(binary_image, cv2.RETR_TREE, cv2.CHAIN_APPROX_SIMPLE)\n",
        "img1 = cv2.drawContours(bgr, contour_list,2, (0,255,255), 4)\n",
        "cv2_imshow(img1)\n",
        "cv2.waitKey(0)\n",
        "cv2.destroyAllWindows()"
      ],
      "metadata": {
        "colab": {
          "base_uri": "https://localhost:8080/",
          "height": 223
        },
        "id": "xar31n09r0AY",
        "outputId": "ee5da790-4a90-459a-9208-9c37f7490b92"
      },
      "execution_count": 10,
      "outputs": [
        {
          "output_type": "display_data",
          "data": {
            "text/plain": [
              "<PIL.Image.Image image mode=RGB size=425x206>"
            ],
            "image/png": "[encoded data removed]"
          },
          "metadata": {}
        }
      ]
    },
    {
      "cell_type": "code",
      "source": [
        "import numpy as np\n",
        "child_contour=contour_list[3]\n",
        "img = np.zeros_like(img1)"
      ],
      "metadata": {
        "id": "7xYg1s6oCB5U"
      },
      "execution_count": 12,
      "outputs": []
    },
    {
      "cell_type": "code",
      "source": [
        "img2 = cv2.drawContours(img, child_contour ,-1, (0,255,255),5)\n",
        "cv2_imshow(img2)\n",
        "cv2.waitKey(0)\n",
        "cv2.destroyAllWindows()"
      ],
      "metadata": {
        "colab": {
          "base_uri": "https://localhost:8080/",
          "height": 223
        },
        "id": "bSo4bqkrAnM_",
        "outputId": "6734abe4-43c5-4c55-835e-60150a631443"
      },
      "execution_count": 13,
      "outputs": [
        {
          "output_type": "display_data",
          "data": {
            "text/plain": [
              "<PIL.Image.Image image mode=RGB size=425x206>"
            ],
            "image/png": "[encoded data removed]"
          },
          "metadata": {}
        }
      ]
    },
    {
      "cell_type": "markdown",
      "metadata": {
        "id": "938rAR_wup_S"
      },
      "source": [
        "Great Job Friends 🤗"
      ]
    }
  ],
  "metadata": {
    "kernelspec": {
      "display_name": ".venv",
      "language": "python",
      "name": "python3"
    },
    "language_info": {
      "codemirror_mode": {
        "name": "ipython",
        "version": 3
      },
      "file_extension": ".py",
      "mimetype": "text/x-python",
      "name": "python",
      "nbconvert_exporter": "python",
      "pygments_lexer": "ipython3",
      "version": "3.10.13"
    },
    "colab": {
      "provenance": []
    }
  },
  "nbformat": 4,
  "nbformat_minor": 0
}